{
 "cells": [
  {
   "cell_type": "code",
   "execution_count": null,
   "metadata": {},
   "outputs": [],
   "source": [
    "#Day 8 Lets Upgrade Assignment Answer"
   ]
  },
  {
   "cell_type": "code",
   "execution_count": null,
   "metadata": {},
   "outputs": [],
   "source": [
    "# Q1 Answer (Decoractors)" 
   ]
  },
  {
   "cell_type": "code",
   "execution_count": 1,
   "metadata": {},
   "outputs": [],
   "source": [
    "def split_string(string):\n",
    "    def wrapper():\n",
    "        print(\"Hello Everyone!!!!!!!!!!!\")\n",
    "        print(\"Let's split the string\")\n",
    "        func = string()\n",
    "        print(\"After spliting the string is as follows : \")\n",
    "        splitted_string = func.split()\n",
    "        return splitted_string\n",
    "\n",
    "    return wrapper"
   ]
  },
  {
   "cell_type": "code",
   "execution_count": 2,
   "metadata": {},
   "outputs": [
    {
     "name": "stdout",
     "output_type": "stream",
     "text": [
      "Hello Everyone!!!!!!!!!!!\n",
      "Let's split the string\n",
      "Please Enter String = \n",
      "Always find opportunities to make someone smile, and to offer random acts of kindness in everyday life\n",
      "After spliting the string is as follows : \n"
     ]
    },
    {
     "data": {
      "text/plain": [
       "['Always',\n",
       " 'find',\n",
       " 'opportunities',\n",
       " 'to',\n",
       " 'make',\n",
       " 'someone',\n",
       " 'smile,',\n",
       " 'and',\n",
       " 'to',\n",
       " 'offer',\n",
       " 'random',\n",
       " 'acts',\n",
       " 'of',\n",
       " 'kindness',\n",
       " 'in',\n",
       " 'everyday',\n",
       " 'life']"
      ]
     },
     "execution_count": 2,
     "metadata": {},
     "output_type": "execute_result"
    }
   ],
   "source": [
    "@split_string\n",
    "\n",
    "def say_str():\n",
    "    print(\"Please Enter String = \")\n",
    "    return input()\n",
    "say_str()"
   ]
  },
  {
   "cell_type": "code",
   "execution_count": null,
   "metadata": {},
   "outputs": [],
   "source": [
    "# Q2 Answer (Exception Handling)"
   ]
  },
  {
   "cell_type": "code",
   "execution_count": 3,
   "metadata": {},
   "outputs": [
    {
     "name": "stdout",
     "output_type": "stream",
     "text": [
      "This file is not open in write mode so we can't weitten anything into this file\n"
     ]
    }
   ],
   "source": [
    "try:\n",
    "    file=open('python.txt','r')\n",
    "    file.write(\"Python's name is derived from the British comedy group Monty Python, whom Python creator Guido van Rossum enjoyed while developing the language.\")\n",
    "except Exception:\n",
    "    print(\"This file is not open in write mode so we can't weitten anything into this file\")\n",
    "else:\n",
    "     print(\"No exception occoured\")"
   ]
  },
  {
   "cell_type": "code",
   "execution_count": null,
   "metadata": {},
   "outputs": [],
   "source": []
  }
 ],
 "metadata": {
  "kernelspec": {
   "display_name": "Python 3",
   "language": "python",
   "name": "python3"
  },
  "language_info": {
   "codemirror_mode": {
    "name": "ipython",
    "version": 3
   },
   "file_extension": ".py",
   "mimetype": "text/x-python",
   "name": "python",
   "nbconvert_exporter": "python",
   "pygments_lexer": "ipython3",
   "version": "3.8.3"
  }
 },
 "nbformat": 4,
 "nbformat_minor": 4
}
